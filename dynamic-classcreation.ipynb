{
 "cells": [
  {
   "cell_type": "code",
   "execution_count": 1,
   "id": "7709b89e-03a1-4d27-9004-23ed8b1ed9d5",
   "metadata": {},
   "outputs": [
    {
     "data": {
      "text/plain": [
       "\"testmeth {'stijn': 'gunst'}\""
      ]
     },
     "execution_count": 1,
     "metadata": {},
     "output_type": "execute_result"
    }
   ],
   "source": [
    "class Test:\n",
    "    a=5\n",
    "    def testmeth(self, args):\n",
    "        return f\"testmeth {args}\"\n",
    "\n",
    "t = Test()\n",
    "t.testmeth({\"stijn\": \"gunst\"})\n",
    "\n"
   ]
  },
  {
   "cell_type": "code",
   "execution_count": null,
   "id": "f0655f9f-b086-4822-9d42-2ed98c8b1ad0",
   "metadata": {},
   "outputs": [],
   "source": []
  }
 ],
 "metadata": {
  "kernelspec": {
   "display_name": "Python 3 (ipykernel)",
   "language": "python",
   "name": "python3"
  },
  "language_info": {
   "codemirror_mode": {
    "name": "ipython",
    "version": 3
   },
   "file_extension": ".py",
   "mimetype": "text/x-python",
   "name": "python",
   "nbconvert_exporter": "python",
   "pygments_lexer": "ipython3",
   "version": "3.10.0"
  }
 },
 "nbformat": 4,
 "nbformat_minor": 5
}
